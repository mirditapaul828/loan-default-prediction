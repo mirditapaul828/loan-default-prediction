{
 "cells": [
  {
   "cell_type": "markdown",
   "metadata": {},
   "source": [
    "### Import Libraries"
   ]
  },
  {
   "cell_type": "code",
   "execution_count": 1,
   "metadata": {},
   "outputs": [],
   "source": [
    "import pandas as pd\n",
    "import numpy as np\n",
    "import matplotlib.pyplot as plt\n",
    "import seaborn as sns\n",
    "import os\n",
    "import pickle\n",
    "\n",
    "from sklearn.metrics import classification_report, roc_curve, precision_recall_curve\n",
    "from sklearn.model_selection import GridSearchCV\n",
    "from imblearn.pipeline import Pipeline\n",
    "\n",
    "import xgboost as xgb\n",
    "from sklearn.metrics import classification_report, roc_curve, precision_recall_curve,roc_auc_score, f1_score, confusion_matrix\n",
    "from imblearn.over_sampling import SMOTE\n",
    "\n",
    "%matplotlib inline"
   ]
  },
  {
   "cell_type": "markdown",
   "metadata": {},
   "source": [
    "### Read and split dataset"
   ]
  },
  {
   "cell_type": "code",
   "execution_count": 2,
   "metadata": {},
   "outputs": [
    {
     "name": "stderr",
     "output_type": "stream",
     "text": [
      "C:\\Users\\mirdi\\anaconda3\\envs\\loan-default-prediction-app\\lib\\site-packages\\numpy\\lib\\arraysetops.py:580: FutureWarning: elementwise comparison failed; returning scalar instead, but in the future will perform elementwise comparison\n",
      "  mask |= (ar1 == a)\n"
     ]
    }
   ],
   "source": [
    "#get directory\n",
    "df_train_path = os.path.join('..', 'data', 'training_data', 'df_train_scaled.csv')\n",
    "df_test_path = os.path.join('..', 'data', 'training_data', 'df_test_scaled.csv')\n",
    "\n",
    "#download in chunks\n",
    "df_train = pd.read_csv(df_train_path,compression='zip', index_col=0)\n",
    "df_test = pd.read_csv(df_test_path,compression='zip', index_col=0)"
   ]
  },
  {
   "cell_type": "code",
   "execution_count": 3,
   "metadata": {},
   "outputs": [
    {
     "data": {
      "text/plain": [
       "((1073090, 21), (194208, 21))"
      ]
     },
     "execution_count": 3,
     "metadata": {},
     "output_type": "execute_result"
    }
   ],
   "source": [
    "df_train.shape,df_test.shape"
   ]
  },
  {
   "cell_type": "code",
   "execution_count": 4,
   "metadata": {},
   "outputs": [
    {
     "data": {
      "text/html": [
       "<div>\n",
       "<style scoped>\n",
       "    .dataframe tbody tr th:only-of-type {\n",
       "        vertical-align: middle;\n",
       "    }\n",
       "\n",
       "    .dataframe tbody tr th {\n",
       "        vertical-align: top;\n",
       "    }\n",
       "\n",
       "    .dataframe thead th {\n",
       "        text-align: right;\n",
       "    }\n",
       "</style>\n",
       "<table border=\"1\" class=\"dataframe\">\n",
       "  <thead>\n",
       "    <tr style=\"text-align: right;\">\n",
       "      <th></th>\n",
       "      <th>term</th>\n",
       "      <th>int_rate</th>\n",
       "      <th>grade</th>\n",
       "      <th>sub_grade</th>\n",
       "      <th>emp_length</th>\n",
       "      <th>home_ownership</th>\n",
       "      <th>annual_inc</th>\n",
       "      <th>verification_status</th>\n",
       "      <th>loan_status</th>\n",
       "      <th>purpose</th>\n",
       "      <th>...</th>\n",
       "      <th>pub_rec</th>\n",
       "      <th>revol_bal</th>\n",
       "      <th>revol_util</th>\n",
       "      <th>mort_acc</th>\n",
       "      <th>pub_rec_bankruptcies</th>\n",
       "      <th>credit_hist</th>\n",
       "      <th>credit_line_ratio</th>\n",
       "      <th>balance_annual_inc</th>\n",
       "      <th>fico_avg_score</th>\n",
       "      <th>inst_amnt_ratio</th>\n",
       "    </tr>\n",
       "  </thead>\n",
       "  <tbody>\n",
       "    <tr>\n",
       "      <td>0</td>\n",
       "      <td>-0.608872</td>\n",
       "      <td>0.164693</td>\n",
       "      <td>-0.163457</td>\n",
       "      <td>-0.325463</td>\n",
       "      <td>1.122052</td>\n",
       "      <td>0.447071</td>\n",
       "      <td>-0.429185</td>\n",
       "      <td>-1.307963</td>\n",
       "      <td>0</td>\n",
       "      <td>-0.284092</td>\n",
       "      <td>...</td>\n",
       "      <td>0</td>\n",
       "      <td>-0.546784</td>\n",
       "      <td>-1.023435</td>\n",
       "      <td>-0.312566</td>\n",
       "      <td>0</td>\n",
       "      <td>-0.507738</td>\n",
       "      <td>0.163442</td>\n",
       "      <td>-1.289327</td>\n",
       "      <td>-0.664438</td>\n",
       "      <td>0.751798</td>\n",
       "    </tr>\n",
       "    <tr>\n",
       "      <td>67</td>\n",
       "      <td>1.642269</td>\n",
       "      <td>1.571844</td>\n",
       "      <td>-1.681827</td>\n",
       "      <td>-1.852288</td>\n",
       "      <td>-1.097898</td>\n",
       "      <td>2.003534</td>\n",
       "      <td>0.922524</td>\n",
       "      <td>-1.307963</td>\n",
       "      <td>1</td>\n",
       "      <td>-1.129831</td>\n",
       "      <td>...</td>\n",
       "      <td>0</td>\n",
       "      <td>0.051569</td>\n",
       "      <td>1.656392</td>\n",
       "      <td>0.185487</td>\n",
       "      <td>0</td>\n",
       "      <td>1.811497</td>\n",
       "      <td>-0.290346</td>\n",
       "      <td>0.013519</td>\n",
       "      <td>-1.142713</td>\n",
       "      <td>-0.953725</td>\n",
       "    </tr>\n",
       "    <tr>\n",
       "      <td>109</td>\n",
       "      <td>-0.608872</td>\n",
       "      <td>0.164693</td>\n",
       "      <td>-0.163457</td>\n",
       "      <td>-0.325463</td>\n",
       "      <td>-1.097898</td>\n",
       "      <td>-1.109391</td>\n",
       "      <td>0.373296</td>\n",
       "      <td>1.107810</td>\n",
       "      <td>0</td>\n",
       "      <td>-0.284092</td>\n",
       "      <td>...</td>\n",
       "      <td>0</td>\n",
       "      <td>-0.039984</td>\n",
       "      <td>1.171393</td>\n",
       "      <td>-0.810619</td>\n",
       "      <td>0</td>\n",
       "      <td>-0.405765</td>\n",
       "      <td>-0.661155</td>\n",
       "      <td>-1.119129</td>\n",
       "      <td>-0.505013</td>\n",
       "      <td>0.751305</td>\n",
       "    </tr>\n",
       "    <tr>\n",
       "      <td>166</td>\n",
       "      <td>-0.608872</td>\n",
       "      <td>0.045809</td>\n",
       "      <td>-0.163457</td>\n",
       "      <td>-0.172780</td>\n",
       "      <td>-1.375392</td>\n",
       "      <td>-1.109391</td>\n",
       "      <td>-1.966736</td>\n",
       "      <td>1.107810</td>\n",
       "      <td>0</td>\n",
       "      <td>-0.284092</td>\n",
       "      <td>...</td>\n",
       "      <td>0</td>\n",
       "      <td>-0.491274</td>\n",
       "      <td>-0.982334</td>\n",
       "      <td>-0.810619</td>\n",
       "      <td>0</td>\n",
       "      <td>-1.030678</td>\n",
       "      <td>0.453866</td>\n",
       "      <td>-0.581365</td>\n",
       "      <td>0.451536</td>\n",
       "      <td>0.690353</td>\n",
       "    </tr>\n",
       "    <tr>\n",
       "      <td>240</td>\n",
       "      <td>-0.608872</td>\n",
       "      <td>0.350584</td>\n",
       "      <td>-0.163457</td>\n",
       "      <td>-0.478145</td>\n",
       "      <td>-1.097898</td>\n",
       "      <td>-1.109391</td>\n",
       "      <td>-0.044315</td>\n",
       "      <td>1.107810</td>\n",
       "      <td>0</td>\n",
       "      <td>-0.706962</td>\n",
       "      <td>...</td>\n",
       "      <td>0</td>\n",
       "      <td>-0.101400</td>\n",
       "      <td>0.123301</td>\n",
       "      <td>-0.810619</td>\n",
       "      <td>0</td>\n",
       "      <td>0.015201</td>\n",
       "      <td>-0.203410</td>\n",
       "      <td>-1.206653</td>\n",
       "      <td>-0.823863</td>\n",
       "      <td>0.847883</td>\n",
       "    </tr>\n",
       "  </tbody>\n",
       "</table>\n",
       "<p>5 rows × 21 columns</p>\n",
       "</div>"
      ],
      "text/plain": [
       "         term  int_rate     grade  sub_grade  emp_length  home_ownership  \\\n",
       "0   -0.608872  0.164693 -0.163457  -0.325463    1.122052        0.447071   \n",
       "67   1.642269  1.571844 -1.681827  -1.852288   -1.097898        2.003534   \n",
       "109 -0.608872  0.164693 -0.163457  -0.325463   -1.097898       -1.109391   \n",
       "166 -0.608872  0.045809 -0.163457  -0.172780   -1.375392       -1.109391   \n",
       "240 -0.608872  0.350584 -0.163457  -0.478145   -1.097898       -1.109391   \n",
       "\n",
       "     annual_inc  verification_status  loan_status   purpose  ...  pub_rec  \\\n",
       "0     -0.429185            -1.307963            0 -0.284092  ...        0   \n",
       "67     0.922524            -1.307963            1 -1.129831  ...        0   \n",
       "109    0.373296             1.107810            0 -0.284092  ...        0   \n",
       "166   -1.966736             1.107810            0 -0.284092  ...        0   \n",
       "240   -0.044315             1.107810            0 -0.706962  ...        0   \n",
       "\n",
       "     revol_bal  revol_util  mort_acc  pub_rec_bankruptcies  credit_hist  \\\n",
       "0    -0.546784   -1.023435 -0.312566                     0    -0.507738   \n",
       "67    0.051569    1.656392  0.185487                     0     1.811497   \n",
       "109  -0.039984    1.171393 -0.810619                     0    -0.405765   \n",
       "166  -0.491274   -0.982334 -0.810619                     0    -1.030678   \n",
       "240  -0.101400    0.123301 -0.810619                     0     0.015201   \n",
       "\n",
       "     credit_line_ratio  balance_annual_inc  fico_avg_score  inst_amnt_ratio  \n",
       "0             0.163442           -1.289327       -0.664438         0.751798  \n",
       "67           -0.290346            0.013519       -1.142713        -0.953725  \n",
       "109          -0.661155           -1.119129       -0.505013         0.751305  \n",
       "166           0.453866           -0.581365        0.451536         0.690353  \n",
       "240          -0.203410           -1.206653       -0.823863         0.847883  \n",
       "\n",
       "[5 rows x 21 columns]"
      ]
     },
     "execution_count": 4,
     "metadata": {},
     "output_type": "execute_result"
    }
   ],
   "source": [
    "df_train.head()"
   ]
  },
  {
   "cell_type": "code",
   "execution_count": 5,
   "metadata": {},
   "outputs": [],
   "source": [
    "#target variable\n",
    "target_col = 'loan_status'\n",
    "\n",
    "#training variables\n",
    "X_train = df_train.drop(columns=[target_col])\n",
    "y_train = df_train[target_col]\n",
    "\n",
    "#test variables\n",
    "X_test = df_test.drop(columns=[target_col])\n",
    "y_test = df_test[target_col]\n",
    "\n",
    "drop_columns=['pub_rec','pub_rec_bankruptcies','emp_length','purpose','revol_bal','grade','int_rate']\n",
    "X_train=X_train.drop(columns=drop_columns)\n",
    "X_test =X_test.drop(columns=drop_columns)"
   ]
  },
  {
   "cell_type": "code",
   "execution_count": 6,
   "metadata": {},
   "outputs": [
    {
     "data": {
      "text/plain": [
       "((1073090, 13), (194208, 13))"
      ]
     },
     "execution_count": 6,
     "metadata": {},
     "output_type": "execute_result"
    }
   ],
   "source": [
    "X_train.shape,X_test.shape"
   ]
  },
  {
   "cell_type": "markdown",
   "metadata": {},
   "source": [
    "### Perform Grid Search for model tuning"
   ]
  },
  {
   "cell_type": "code",
   "execution_count": null,
   "metadata": {},
   "outputs": [
    {
     "name": "stdout",
     "output_type": "stream",
     "text": [
      "Estimate: 3.973\n",
      "Fitting 3 folds for each of 18 candidates, totalling 54 fits\n",
      "[Parallel(n_jobs=-1)]: Using backend LokyBackend with 16 concurrent workers.\n"
     ]
    }
   ],
   "source": [
    "from collections import Counter\n",
    "counter = Counter(y_train)\n",
    "\n",
    "# estimate scale_pos_weight value\n",
    "estimate = counter[0] / counter[1]\n",
    "print('Estimate: %.3f' % estimate)\n",
    "\n",
    "#define the param grid\n",
    "# Parameters of pipelines can be set using ‘__’ separated para\n",
    "clf_grid = {\n",
    "    'xgb__eta': [0.05, 0.1, 0.3],\n",
    "    'xgb__max_depth': [3, 6, 12],\n",
    "    'xgb__colsample_bytree': [0.9, 1.0],\n",
    "    }\n",
    "\n",
    "#define the pipeline\n",
    "model_pipe = Pipeline([\n",
    "    ('xgb', xgb.XGBClassifier(n_estimators=200,\n",
    "                              n_jobs=-1, scale_pos_weight=estimate))\n",
    "])\n",
    "\n",
    "#define the classifer\n",
    "clf = GridSearchCV(model_pipe,\n",
    "                   clf_grid,\n",
    "                   n_jobs=-1,\n",
    "                   cv=3, \n",
    "                   verbose=50, \n",
    "                   scoring='roc_auc')\n",
    "\n",
    "#fit to training data\n",
    "clf.fit(X_train, y_train)"
   ]
  },
  {
   "cell_type": "code",
   "execution_count": 8,
   "metadata": {},
   "outputs": [
    {
     "name": "stdout",
     "output_type": "stream",
     "text": [
      "Best model parameters: \n",
      "\n",
      "{'xgb__colsample_bytree': 0.9, 'xgb__eta': 0.05, 'xgb__max_depth': 6}\n",
      "Best model score: \n",
      "\n",
      "0.7169512241208537\n"
     ]
    }
   ],
   "source": [
    "print(\"Best model parameters: \\n\")\n",
    "print(clf.best_params_ )\n",
    "print(\"Best model score: \\n\")\n",
    "print(clf.best_score_)"
   ]
  },
  {
   "cell_type": "markdown",
   "metadata": {},
   "source": [
    "### Get Metrics - Confusion Matrix, ROC Curve/AUC, and F1 Score"
   ]
  },
  {
   "cell_type": "code",
   "execution_count": 9,
   "metadata": {},
   "outputs": [
    {
     "data": {
      "text/plain": [
       "array([[90304, 50226],\n",
       "       [18424, 35254]])"
      ]
     },
     "execution_count": 9,
     "metadata": {},
     "output_type": "execute_result"
    }
   ],
   "source": [
    "y_pred = clf.predict(X_test)\n",
    "confusion_matrix(y_test, y_pred)"
   ]
  },
  {
   "cell_type": "code",
   "execution_count": 10,
   "metadata": {},
   "outputs": [],
   "source": [
    "fpr, tpr, thresholds = roc_curve(y_test,\n",
    "                                 clf.predict_proba(X_test)[:,1],\n",
    "                                 pos_label=1)"
   ]
  },
  {
   "cell_type": "code",
   "execution_count": 11,
   "metadata": {},
   "outputs": [
    {
     "data": {
      "image/png": "[encoded data removed]",
      "text/plain": [
       "<Figure size 432x288 with 1 Axes>"
      ]
     },
     "metadata": {
      "needs_background": "light"
     },
     "output_type": "display_data"
    },
    {
     "name": "stdout",
     "output_type": "stream",
     "text": [
      "AUC: 0.705\n"
     ]
    }
   ],
   "source": [
    "plt.plot(fpr, tpr, label='XGB')\n",
    "plt.plot([0,1], [0,1], label='No Discrimination', linestyle='-', dashes=(5, 5))\n",
    "plt.show()\n",
    "\n",
    "# calculate AUC\n",
    "auc = roc_auc_score(y_test, clf.predict_proba(X_test)[:,1])\n",
    "print('AUC: %.3f' % auc)"
   ]
  },
  {
   "cell_type": "code",
   "execution_count": 12,
   "metadata": {},
   "outputs": [
    {
     "name": "stdout",
     "output_type": "stream",
     "text": [
      "f1_xgb (binary): 0.5066758648442777\n",
      "\n",
      "              precision    recall  f1-score   support\n",
      "\n",
      "           0       0.83      0.64      0.72    140530\n",
      "           1       0.41      0.66      0.51     53678\n",
      "\n",
      "    accuracy                           0.65    194208\n",
      "   macro avg       0.62      0.65      0.62    194208\n",
      "weighted avg       0.71      0.65      0.66    194208\n",
      "\n"
     ]
    }
   ],
   "source": [
    "f1_xgb = f1_score(y_test, y_pred)\n",
    "\n",
    "print(\"f1_xgb (binary): {}\\n\".format(f1_xgb))\n",
    "print(classification_report(y_test,y_pred))"
   ]
  },
  {
   "cell_type": "markdown",
   "metadata": {},
   "source": [
    "### Save Model"
   ]
  },
  {
   "cell_type": "code",
   "execution_count": 14,
   "metadata": {},
   "outputs": [
    {
     "name": "stdout",
     "output_type": "stream",
     "text": [
      "Saving model at: models/xgb_cv_final.pkl\n"
     ]
    }
   ],
   "source": [
    "#define location to save trained model\n",
    "save_model_dir = os.path.join('..', 'models', 'xgb_cv_final.pkl')\n",
    "print(\"Saving model at: {}\".format(save_model_dir))\n",
    "\n",
    "#save the model\n",
    "with open(save_model_dir, 'wb') as handle:\n",
    "    pickle.dump(clf,\n",
    "                handle,\n",
    "                protocol=3)"
   ]
  }
 ],
 "metadata": {
  "kernelspec": {
   "display_name": "Python 3 (ipykernel)",
   "language": "python",
   "name": "python3"
  },
  "language_info": {
   "codemirror_mode": {
    "name": "ipython",
    "version": 3
   },
   "file_extension": ".py",
   "mimetype": "text/x-python",
   "name": "python",
   "nbconvert_exporter": "python",
   "pygments_lexer": "ipython3",
   "version": "3.7.16"
  }
 },
 "nbformat": 4,
 "nbformat_minor": 4
}
